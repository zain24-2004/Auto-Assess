{
  "cells": [
    {
      "cell_type": "markdown",
      "source": [
        "# imports"
      ],
      "metadata": {
        "id": "aOUJ1eVCmya5"
      }
    },
    {
      "cell_type": "code",
      "execution_count": 4,
      "metadata": {
        "id": "hWNSz5IAEAlY",
        "colab": {
          "base_uri": "https://localhost:8080/"
        },
        "outputId": "1e64d2ad-9adb-41f2-c053-b6f2af504ce2"
      },
      "outputs": [
        {
          "output_type": "stream",
          "name": "stdout",
          "text": [
            "Creating new Ultralytics Settings v0.0.6 file ✅ \n",
            "View Ultralytics Settings with 'yolo settings' or at '/root/.config/Ultralytics/settings.json'\n",
            "Update Settings with 'yolo settings key=value', i.e. 'yolo settings runs_dir=path/to/dir'. For help see https://docs.ultralytics.com/quickstart/#ultralytics-settings.\n"
          ]
        }
      ],
      "source": [
        "import os\n",
        "import cv2\n",
        "import json\n",
        "import zipfile\n",
        "import shutil\n",
        "import random\n",
        "from tqdm import tqdm\n",
        "import numpy as np\n",
        "import pandas as pd\n",
        "import matplotlib.pyplot as plt\n",
        "import seaborn as sns\n",
        "\n",
        "from PIL import Image\n",
        "from sklearn.model_selection import train_test_split\n",
        "from ultralytics import YOLO  # For detection model\n",
        "from pycocotools.coco import COCO  # For COCO annotations\n",
        "\n",
        "import torch\n",
        "import tensorflow as tf"
      ]
    },
    {
      "cell_type": "markdown",
      "source": [
        "# data reading"
      ],
      "metadata": {
        "id": "UkO55Ilrm6jI"
      }
    },
    {
      "cell_type": "code",
      "execution_count": 5,
      "metadata": {
        "colab": {
          "base_uri": "https://localhost:8080/"
        },
        "id": "eb63b2bd",
        "outputId": "e2c55f6c-ce74-45e6-e20f-23de1fed5922"
      },
      "outputs": [
        {
          "output_type": "stream",
          "name": "stdout",
          "text": [
            "Contents of /content/drive/MyDrive/Auto-Assess/data sets/d1:\n",
            "train\n",
            "img\n",
            "val\n",
            "test\n",
            "\n",
            "Contents of /content/drive/MyDrive/Auto-Assess/data sets/d2:\n",
            "validation\n",
            "training\n"
          ]
        }
      ],
      "source": [
        "\n",
        "\n",
        "d1_path = '/content/drive/MyDrive/Auto-Assess/data sets/d1'\n",
        "d2_path = '/content/drive/MyDrive/Auto-Assess/data sets/d2'\n",
        "\n",
        "print(f\"Contents of {d1_path}:\")\n",
        "try:\n",
        "    for item in os.listdir(d1_path):\n",
        "        print(item)\n",
        "except FileNotFoundError:\n",
        "    print(f\"Error: Directory not found at {d1_path}\")\n",
        "\n",
        "print(f\"\\nContents of {d2_path}:\")\n",
        "try:\n",
        "    for item in os.listdir(d2_path):\n",
        "        print(item)\n",
        "except FileNotFoundError:\n",
        "    print(f\"Error: Directory not found at {d2_path}\")"
      ]
    },
    {
      "cell_type": "code",
      "source": [
        "#merging data\n",
        "import shutil\n",
        "\n",
        "# Paths for your datasets on Google Drive\n",
        "d1_path = '/content/drive/MyDrive/Auto-Assess/data sets/d1'\n",
        "d2_path = '/content/drive/MyDrive/Auto-Assess/data sets/d2'\n",
        "\n",
        "# Define target directories for the merged dataset structure\n",
        "merged_base_dir = \"merged_dataset\"\n",
        "merged_train_dir = os.path.join(merged_base_dir, \"train\")\n",
        "merged_val_dir = os.path.join(merged_base_dir, \"val\")\n",
        "\n",
        "# Create merged directories\n",
        "os.makedirs(merged_train_dir, exist_ok=True)\n",
        "os.makedirs(merged_val_dir, exist_ok=True)\n",
        "\n",
        "print(f\"Merging data from {d1_path} and {d2_path}...\")\n",
        "\n",
        "# Function to copy files, avoiding duplicates\n",
        "def copy_files(source_dir, target_dir):\n",
        "    if not os.path.exists(source_dir):\n",
        "        print(f\"Warning: Source directory not found: {source_dir}\")\n",
        "        return\n",
        "\n",
        "    for root, _, files in os.walk(source_dir):\n",
        "        relative_path = os.path.relpath(root, source_dir)\n",
        "        target_root = os.path.join(target_dir, relative_path)\n",
        "        os.makedirs(target_root, exist_ok=True)\n",
        "\n",
        "        for file_name in files:\n",
        "            source_file = os.path.join(root, file_name)\n",
        "            target_file = os.path.join(target_root, file_name)\n",
        "\n",
        "            if not os.path.exists(target_file):  # Avoid overwriting\n",
        "                shutil.copy2(source_file, target_file)\n",
        "            # else:\n",
        "            #     print(f\"Skipping existing file: {target_file}\")\n",
        "\n",
        "\n",
        "# Merge data from d1\n",
        "copy_files(os.path.join(d1_path, 'train'), merged_train_dir)\n",
        "copy_files(os.path.join(d1_path, 'val'), merged_val_dir)\n",
        "# Assuming d1/img also contains training/validation images, merge them into train\n",
        "copy_files(os.path.join(d1_path, 'img'), merged_train_dir)\n",
        "\n",
        "\n",
        "# Merge data from d2 (mapping training to merged_train and validation to merged_val)\n",
        "copy_files(os.path.join(d2_path, 'training'), merged_train_dir)\n",
        "copy_files(os.path.join(d2_path, 'validation'), merged_val_dir)\n",
        "\n"
      ],
      "metadata": {
        "colab": {
          "base_uri": "https://localhost:8080/"
        },
        "id": "JVW7f_Spxb-o",
        "outputId": "286dd7ed-b012-4274-c2ad-10a338614142"
      },
      "execution_count": 6,
      "outputs": [
        {
          "output_type": "stream",
          "name": "stdout",
          "text": [
            "Merging data from /content/drive/MyDrive/Auto-Assess/data sets/d1 and /content/drive/MyDrive/Auto-Assess/data sets/d2...\n"
          ]
        }
      ]
    },
    {
      "cell_type": "markdown",
      "source": [
        "# preprocessing"
      ],
      "metadata": {
        "id": "GnkLI--YpEEJ"
      }
    }
  ],
  "metadata": {
    "colab": {
      "provenance": []
    },
    "kernelspec": {
      "display_name": "Python 3",
      "name": "python3"
    },
    "language_info": {
      "name": "python"
    }
  },
  "nbformat": 4,
  "nbformat_minor": 0
}